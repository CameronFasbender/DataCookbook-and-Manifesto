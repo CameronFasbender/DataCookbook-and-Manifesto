{
 "cells": [
  {
   "cell_type": "code",
   "execution_count": 1,
   "id": "96bad023",
   "metadata": {},
   "outputs": [],
   "source": [
    "import pandas as pd\n",
    "import numpy as np\n",
    "from matplotlib import pyplot as plt\n",
    "import seaborn as sns"
   ]
  },
  {
   "cell_type": "markdown",
   "id": "868e9b60",
   "metadata": {},
   "source": [
    "# Recipe 4: Visualization with matplotlib and seaborn"
   ]
  },
  {
   "cell_type": "code",
   "execution_count": 2,
   "id": "f23b2678",
   "metadata": {},
   "outputs": [
    {
     "data": {
      "text/html": [
       "<div>\n",
       "<style scoped>\n",
       "    .dataframe tbody tr th:only-of-type {\n",
       "        vertical-align: middle;\n",
       "    }\n",
       "\n",
       "    .dataframe tbody tr th {\n",
       "        vertical-align: top;\n",
       "    }\n",
       "\n",
       "    .dataframe thead th {\n",
       "        text-align: right;\n",
       "    }\n",
       "</style>\n",
       "<table border=\"1\" class=\"dataframe\">\n",
       "  <thead>\n",
       "    <tr style=\"text-align: right;\">\n",
       "      <th></th>\n",
       "      <th>Company</th>\n",
       "      <th>Location</th>\n",
       "      <th>Date</th>\n",
       "      <th>Time</th>\n",
       "      <th>Rocket</th>\n",
       "      <th>Mission</th>\n",
       "      <th>RocketStatus</th>\n",
       "      <th>Price</th>\n",
       "      <th>MissionStatus</th>\n",
       "      <th>Time of Day</th>\n",
       "    </tr>\n",
       "  </thead>\n",
       "  <tbody>\n",
       "    <tr>\n",
       "      <th>0</th>\n",
       "      <td>RVSN USSR</td>\n",
       "      <td>Site 1/5, Baikonur Cosmodrome, Kazakhstan</td>\n",
       "      <td>1957-10-04</td>\n",
       "      <td>19:28:00</td>\n",
       "      <td>Sputnik 8K71PS</td>\n",
       "      <td>Sputnik-1</td>\n",
       "      <td>Retired</td>\n",
       "      <td>NaN</td>\n",
       "      <td>Success</td>\n",
       "      <td>Afternoon</td>\n",
       "    </tr>\n",
       "    <tr>\n",
       "      <th>1</th>\n",
       "      <td>RVSN USSR</td>\n",
       "      <td>Site 1/5, Baikonur Cosmodrome, Kazakhstan</td>\n",
       "      <td>1957-11-03</td>\n",
       "      <td>02:30:00</td>\n",
       "      <td>Sputnik 8K71PS</td>\n",
       "      <td>Sputnik-2</td>\n",
       "      <td>Retired</td>\n",
       "      <td>NaN</td>\n",
       "      <td>Success</td>\n",
       "      <td>Night</td>\n",
       "    </tr>\n",
       "    <tr>\n",
       "      <th>2</th>\n",
       "      <td>US Navy</td>\n",
       "      <td>LC-18A, Cape Canaveral AFS, Florida, USA</td>\n",
       "      <td>1957-12-06</td>\n",
       "      <td>16:44:00</td>\n",
       "      <td>Vanguard</td>\n",
       "      <td>Vanguard TV3</td>\n",
       "      <td>Retired</td>\n",
       "      <td>NaN</td>\n",
       "      <td>Failure</td>\n",
       "      <td>Afternoon</td>\n",
       "    </tr>\n",
       "    <tr>\n",
       "      <th>3</th>\n",
       "      <td>AMBA</td>\n",
       "      <td>LC-26A, Cape Canaveral AFS, Florida, USA</td>\n",
       "      <td>1958-02-01</td>\n",
       "      <td>03:48:00</td>\n",
       "      <td>Juno I</td>\n",
       "      <td>Explorer 1</td>\n",
       "      <td>Retired</td>\n",
       "      <td>NaN</td>\n",
       "      <td>Success</td>\n",
       "      <td>Night</td>\n",
       "    </tr>\n",
       "    <tr>\n",
       "      <th>4</th>\n",
       "      <td>US Navy</td>\n",
       "      <td>LC-18A, Cape Canaveral AFS, Florida, USA</td>\n",
       "      <td>1958-02-05</td>\n",
       "      <td>07:33:00</td>\n",
       "      <td>Vanguard</td>\n",
       "      <td>Vanguard TV3BU</td>\n",
       "      <td>Retired</td>\n",
       "      <td>NaN</td>\n",
       "      <td>Failure</td>\n",
       "      <td>Morning</td>\n",
       "    </tr>\n",
       "    <tr>\n",
       "      <th>...</th>\n",
       "      <td>...</td>\n",
       "      <td>...</td>\n",
       "      <td>...</td>\n",
       "      <td>...</td>\n",
       "      <td>...</td>\n",
       "      <td>...</td>\n",
       "      <td>...</td>\n",
       "      <td>...</td>\n",
       "      <td>...</td>\n",
       "      <td>...</td>\n",
       "    </tr>\n",
       "    <tr>\n",
       "      <th>4625</th>\n",
       "      <td>SpaceX</td>\n",
       "      <td>SLC-4E, Vandenberg SFB, California, USA</td>\n",
       "      <td>2022-07-22</td>\n",
       "      <td>17:39:00</td>\n",
       "      <td>Falcon 9 Block 5</td>\n",
       "      <td>Starlink Group 3-2</td>\n",
       "      <td>Active</td>\n",
       "      <td>67</td>\n",
       "      <td>Success</td>\n",
       "      <td>Afternoon</td>\n",
       "    </tr>\n",
       "    <tr>\n",
       "      <th>4626</th>\n",
       "      <td>CASC</td>\n",
       "      <td>LC-101, Wenchang Satellite Launch Center, China</td>\n",
       "      <td>2022-07-24</td>\n",
       "      <td>06:22:00</td>\n",
       "      <td>Long March 5B</td>\n",
       "      <td>Wentian</td>\n",
       "      <td>Active</td>\n",
       "      <td>NaN</td>\n",
       "      <td>Success</td>\n",
       "      <td>Morning</td>\n",
       "    </tr>\n",
       "    <tr>\n",
       "      <th>4627</th>\n",
       "      <td>SpaceX</td>\n",
       "      <td>LC-39A, Kennedy Space Center, Florida, USA</td>\n",
       "      <td>2022-07-24</td>\n",
       "      <td>13:38:00</td>\n",
       "      <td>Falcon 9 Block 5</td>\n",
       "      <td>Starlink Group 4-25</td>\n",
       "      <td>Active</td>\n",
       "      <td>67</td>\n",
       "      <td>Success</td>\n",
       "      <td>Afternoon</td>\n",
       "    </tr>\n",
       "    <tr>\n",
       "      <th>4628</th>\n",
       "      <td>CAS Space</td>\n",
       "      <td>Jiuquan Satellite Launch Center, China</td>\n",
       "      <td>2022-07-27</td>\n",
       "      <td>04:12:00</td>\n",
       "      <td>Zhongke-1A</td>\n",
       "      <td>Demo Flight</td>\n",
       "      <td>Active</td>\n",
       "      <td>NaN</td>\n",
       "      <td>Success</td>\n",
       "      <td>Morning</td>\n",
       "    </tr>\n",
       "    <tr>\n",
       "      <th>4629</th>\n",
       "      <td>CASC</td>\n",
       "      <td>LC-3, Xichang Satellite Launch Center, China</td>\n",
       "      <td>2022-07-29</td>\n",
       "      <td>13:28:00</td>\n",
       "      <td>Long March 2D</td>\n",
       "      <td>Yaogan 35 Group 03</td>\n",
       "      <td>Active</td>\n",
       "      <td>29.75</td>\n",
       "      <td>Success</td>\n",
       "      <td>Afternoon</td>\n",
       "    </tr>\n",
       "  </tbody>\n",
       "</table>\n",
       "<p>4630 rows × 10 columns</p>\n",
       "</div>"
      ],
      "text/plain": [
       "        Company                                         Location        Date  \\\n",
       "0     RVSN USSR        Site 1/5, Baikonur Cosmodrome, Kazakhstan  1957-10-04   \n",
       "1     RVSN USSR        Site 1/5, Baikonur Cosmodrome, Kazakhstan  1957-11-03   \n",
       "2       US Navy         LC-18A, Cape Canaveral AFS, Florida, USA  1957-12-06   \n",
       "3          AMBA         LC-26A, Cape Canaveral AFS, Florida, USA  1958-02-01   \n",
       "4       US Navy         LC-18A, Cape Canaveral AFS, Florida, USA  1958-02-05   \n",
       "...         ...                                              ...         ...   \n",
       "4625     SpaceX          SLC-4E, Vandenberg SFB, California, USA  2022-07-22   \n",
       "4626       CASC  LC-101, Wenchang Satellite Launch Center, China  2022-07-24   \n",
       "4627     SpaceX       LC-39A, Kennedy Space Center, Florida, USA  2022-07-24   \n",
       "4628  CAS Space           Jiuquan Satellite Launch Center, China  2022-07-27   \n",
       "4629       CASC     LC-3, Xichang Satellite Launch Center, China  2022-07-29   \n",
       "\n",
       "          Time            Rocket              Mission RocketStatus  Price  \\\n",
       "0     19:28:00    Sputnik 8K71PS            Sputnik-1      Retired    NaN   \n",
       "1     02:30:00    Sputnik 8K71PS            Sputnik-2      Retired    NaN   \n",
       "2     16:44:00          Vanguard         Vanguard TV3      Retired    NaN   \n",
       "3     03:48:00            Juno I           Explorer 1      Retired    NaN   \n",
       "4     07:33:00          Vanguard       Vanguard TV3BU      Retired    NaN   \n",
       "...        ...               ...                  ...          ...    ...   \n",
       "4625  17:39:00  Falcon 9 Block 5   Starlink Group 3-2       Active     67   \n",
       "4626  06:22:00     Long March 5B              Wentian       Active    NaN   \n",
       "4627  13:38:00  Falcon 9 Block 5  Starlink Group 4-25       Active     67   \n",
       "4628  04:12:00        Zhongke-1A          Demo Flight       Active    NaN   \n",
       "4629  13:28:00     Long March 2D   Yaogan 35 Group 03       Active  29.75   \n",
       "\n",
       "     MissionStatus Time of Day  \n",
       "0          Success   Afternoon  \n",
       "1          Success       Night  \n",
       "2          Failure   Afternoon  \n",
       "3          Success       Night  \n",
       "4          Failure     Morning  \n",
       "...            ...         ...  \n",
       "4625       Success   Afternoon  \n",
       "4626       Success     Morning  \n",
       "4627       Success   Afternoon  \n",
       "4628       Success     Morning  \n",
       "4629       Success   Afternoon  \n",
       "\n",
       "[4630 rows x 10 columns]"
      ]
     },
     "execution_count": 2,
     "metadata": {},
     "output_type": "execute_result"
    }
   ],
   "source": [
    "df = pd.read_csv(\"space_mission_MNA.csv\", encoding = 'latin1')\n",
    "df"
   ]
  },
  {
   "cell_type": "code",
   "execution_count": 3,
   "id": "ff4efd8b",
   "metadata": {},
   "outputs": [],
   "source": [
    "#Using the updated version of this dataframe, we can make a visualization of 'Time of Day' lauches."
   ]
  },
  {
   "cell_type": "code",
   "execution_count": 4,
   "id": "22704a69",
   "metadata": {},
   "outputs": [
    {
     "data": {
      "text/plain": [
       "1819"
      ]
     },
     "execution_count": 4,
     "metadata": {},
     "output_type": "execute_result"
    }
   ],
   "source": [
    "morning = len(df[df['Time of Day'] == 'Morning'])\n",
    "morning\n",
    "#total number of morning launches"
   ]
  },
  {
   "cell_type": "code",
   "execution_count": 5,
   "id": "bff38eea",
   "metadata": {},
   "outputs": [
    {
     "data": {
      "text/plain": [
       "1248"
      ]
     },
     "execution_count": 5,
     "metadata": {},
     "output_type": "execute_result"
    }
   ],
   "source": [
    "afternoon = len(df[df['Time of Day'] == 'Afternoon'])\n",
    "afternoon\n",
    "#total number of afternoon launches"
   ]
  },
  {
   "cell_type": "code",
   "execution_count": 6,
   "id": "04f1432c",
   "metadata": {},
   "outputs": [
    {
     "data": {
      "text/plain": [
       "1563"
      ]
     },
     "execution_count": 6,
     "metadata": {},
     "output_type": "execute_result"
    }
   ],
   "source": [
    "night = len(df[df['Time of Day'] == 'Night'])\n",
    "night\n",
    "#total number of night launches"
   ]
  },
  {
   "cell_type": "code",
   "execution_count": 7,
   "id": "ddaf9a74",
   "metadata": {},
   "outputs": [
    {
     "data": {
      "text/plain": [
       "[1819, 1248, 1563]"
      ]
     },
     "execution_count": 7,
     "metadata": {},
     "output_type": "execute_result"
    }
   ],
   "source": [
    "yvalues = [morning, afternoon, night]\n",
    "yvalues"
   ]
  },
  {
   "cell_type": "code",
   "execution_count": 8,
   "id": "137c09f2",
   "metadata": {},
   "outputs": [
    {
     "data": {
      "image/png": "[encoded data removed]",
      "text/plain": [
       "<Figure size 640x480 with 1 Axes>"
      ]
     },
     "metadata": {},
     "output_type": "display_data"
    }
   ],
   "source": [
    "labels = ['Morning', 'Afternoon', 'Night']\n",
    "sns.set(style='darkgrid')\n",
    "\n",
    "fig, ax = plt.subplots()\n",
    "#creates a new figure and a single set of axes\n",
    "\n",
    "sns.barplot(x=labels, y=yvalues, ax=ax)\n",
    "#pass in the list of x labels in the order that corresponds to the yvalues list.\n",
    "\n",
    "ax.set_ylabel('Number of Launches')\n",
    "ax.set_title('Distribution of Rocket Launch Times')\n",
    "plt.show()"
   ]
  },
  {
   "cell_type": "code",
   "execution_count": null,
   "id": "68019b20",
   "metadata": {},
   "outputs": [],
   "source": [
    "#Below is an example of how this can be done without using Seaborn, the process is nearly identical, though there is less customization without Seaborn."
   ]
  },
  {
   "cell_type": "code",
   "execution_count": 11,
   "id": "4771d8a8",
   "metadata": {},
   "outputs": [
    {
     "data": {
      "image/png": "[encoded data removed]",
      "text/plain": [
       "<Figure size 640x480 with 1 Axes>"
      ]
     },
     "metadata": {},
     "output_type": "display_data"
    }
   ],
   "source": [
    "fig, ax = plt.subplots()\n",
    "ax.bar(labels, yvalues)\n",
    "\n",
    "ax.set_xlabel('Time of Day')\n",
    "ax.set_ylabel('Number of Launches')\n",
    "ax.set_title('Distribution of Rocket Launch Times')\n",
    "\n",
    "plt.show()"
   ]
  }
 ],
 "metadata": {
  "kernelspec": {
   "display_name": "Python 3 (ipykernel)",
   "language": "python",
   "name": "python3"
  },
  "language_info": {
   "codemirror_mode": {
    "name": "ipython",
    "version": 3
   },
   "file_extension": ".py",
   "mimetype": "text/x-python",
   "name": "python",
   "nbconvert_exporter": "python",
   "pygments_lexer": "ipython3",
   "version": "3.11.2"
  }
 },
 "nbformat": 4,
 "nbformat_minor": 5
}
